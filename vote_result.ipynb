{
 "cells": [
  {
   "cell_type": "markdown",
   "id": "8f25af80-90eb-4122-b883-8223e81fb0f8",
   "metadata": {},
   "source": [
    "### 투표결과"
   ]
  },
  {
   "cell_type": "code",
   "execution_count": 2,
   "id": "0e31e855-d87e-49bb-892e-b7377f3245bf",
   "metadata": {},
   "outputs": [],
   "source": [
    "import pandas as pd\n",
    "import math\n",
    "\n",
    "lst = [0,0,0,0,0]\n",
    "\n",
    "df = pd.read_csv(\"result.csv\")"
   ]
  },
  {
   "cell_type": "code",
   "execution_count": 3,
   "id": "3136232a-4e6d-40bd-a399-761255c80358",
   "metadata": {},
   "outputs": [
    {
     "data": {
      "text/plain": [
       "Index(['타임스탬프', '내일의 나에게 도움이 될 것 같은 프로그램에 대하여 투표하여 주세요.                                                                      '], dtype='object')"
      ]
     },
     "execution_count": 3,
     "metadata": {},
     "output_type": "execute_result"
    }
   ],
   "source": [
    "df.columns"
   ]
  },
  {
   "cell_type": "code",
   "execution_count": 4,
   "id": "abd4b005-b1d5-4e18-9dd4-ad79ddad17b0",
   "metadata": {},
   "outputs": [
    {
     "data": {
      "text/plain": [
       "0                         백짓장/운동하조\n",
       "1                             친해져조\n",
       "2                         백짓장/운동하조\n",
       "3     1. '백짓장도 맞들면 낫조'팀/2. '풍요롭조'팀\n",
       "4                        친해져죠 백짓장조\n",
       "5                        백짓장조 욜로하조\n",
       "6                     백짓장조 / 친해져조 \n",
       "7                1. 친해져조 / 2. 풍요롭조\n",
       "8                     운동하죠 /  친해져조\n",
       "9              1.풍요롭조 팀 / 2.욜로하조 팀\n",
       "10               1. 욜로하조팀/2. 운동하조팀\n",
       "11                     친해져조 / 욜로하조\n",
       "12        1. 욜로하조 / 2. 백짓장도 맞들면 낫조\n",
       "13               1. 친해져조 / 2. 운동하조\n",
       "14               1. 운동하조 / 2. 욜로하조\n",
       "15               1. 운동하조 / 2. 친해져조\n",
       "16                     운동하조 / 풍요롭조\n",
       "17                   1.백짓장조 2.운동하조\n",
       "18               1. 친해져조 / 2. 욜로하조\n",
       "19                           C팀 E팀\n",
       "20                     운동하조 / 친해져조\n",
       "21                     친해져조 / 욜로하조\n",
       "22                     욜로하조 / 친해져조\n",
       "23                1.풍요롭조 /  2.친해져조\n",
       "24                            욜로하조\n",
       "25                     운동하조 / 풍요롭조\n",
       "26                 A 욜로하조 / B 풍요롭조\n",
       "27                       풍요롭조/욜로하조\n",
       "Name: 내일의 나에게 도움이 될 것 같은 프로그램에 대하여 투표하여 주세요.                                                                      , dtype: object"
      ]
     },
     "execution_count": 4,
     "metadata": {},
     "output_type": "execute_result"
    }
   ],
   "source": [
    "rows = df[\"내일의 나에게 도움이 될 것 같은 프로그램에 대하여 투표하여 주세요.                                                                      \"]\n",
    "rows"
   ]
  },
  {
   "cell_type": "code",
   "execution_count": 5,
   "id": "06f4b168-b72f-4373-a966-1e8e1382f1fb",
   "metadata": {},
   "outputs": [],
   "source": [
    "for row in rows:\n",
    "    if \"백짓장\" in row:\n",
    "        lst[0] += 1\n",
    "    if \"풍요\" in row:\n",
    "        lst[1] += 1\n",
    "    if (\"친해\" in row) or (\"C\" in row):\n",
    "        lst[2] += 1\n",
    "    if \"운동\" in row:\n",
    "        lst[3] += 1\n",
    "    if \"욜로\" in row or (\"E\" in row):\n",
    "        lst[4] += 1"
   ]
  },
  {
   "cell_type": "code",
   "execution_count": 6,
   "id": "d87744fd-46bd-4cef-9b83-3cca9da9e2b4",
   "metadata": {},
   "outputs": [
    {
     "name": "stdout",
     "output_type": "stream",
     "text": [
      "[8, 8, 14, 11, 13]\n"
     ]
    }
   ],
   "source": [
    "print(lst)"
   ]
  },
  {
   "cell_type": "code",
   "execution_count": 7,
   "id": "f9379a07-ac57-4e4e-bda1-316171fe1567",
   "metadata": {},
   "outputs": [
    {
     "name": "stdout",
     "output_type": "stream",
     "text": [
      "백짓장도 맞들면 낫조 : 8점\n",
      "풍요롭조 : 8점\n",
      "친해져조 : 14점\n",
      "운동하조 : 11점\n",
      "욜로하조 : 13점\n"
     ]
    }
   ],
   "source": [
    "print(\"백짓장도 맞들면 낫조 : {}점\".format(lst[0]))\n",
    "print(\"풍요롭조 : {}점\".format(lst[1]))\n",
    "print(\"친해져조 : {}점\".format(lst[2]))\n",
    "print(\"운동하조 : {}점\".format(lst[3]))\n",
    "print(\"욜로하조 : {}점\".format(lst[4]))"
   ]
  },
  {
   "cell_type": "code",
   "execution_count": 11,
   "id": "47dafab1-a6ae-4d59-a9db-bf6d7131486d",
   "metadata": {},
   "outputs": [
    {
     "name": "stdout",
     "output_type": "stream",
     "text": [
      "54\n"
     ]
    }
   ],
   "source": [
    "sum = 0\n",
    "for i in lst:\n",
    "    sum += i\n",
    "\n",
    "print(sum)"
   ]
  },
  {
   "cell_type": "code",
   "execution_count": null,
   "id": "90ba8c80-dfea-4364-a871-9401dc10240c",
   "metadata": {},
   "outputs": [],
   "source": []
  },
  {
   "cell_type": "code",
   "execution_count": null,
   "id": "ed382c64-9fff-4dc8-a217-bf3757f160ce",
   "metadata": {},
   "outputs": [],
   "source": []
  }
 ],
 "metadata": {
  "kernelspec": {
   "display_name": "Python 3",
   "language": "python",
   "name": "python3"
  },
  "language_info": {
   "codemirror_mode": {
    "name": "ipython",
    "version": 3
   },
   "file_extension": ".py",
   "mimetype": "text/x-python",
   "name": "python",
   "nbconvert_exporter": "python",
   "pygments_lexer": "ipython3",
   "version": "3.8.8"
  }
 },
 "nbformat": 4,
 "nbformat_minor": 5
}

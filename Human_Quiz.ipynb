{
 "cells": [
  {
   "cell_type": "code",
   "execution_count": 1,
   "metadata": {
    "id": "2cIdQjaTuj6g"
   },
   "outputs": [],
   "source": [
    "# 경로 설정 \n",
    "import os\n",
    "os.chdir('pic')"
   ]
  },
  {
   "cell_type": "code",
   "execution_count": 2,
   "metadata": {
    "id": "a0t4KF2wEm4j"
   },
   "outputs": [],
   "source": [
    "import matplotlib.image as img \n",
    "import matplotlib.pyplot as plt "
   ]
  },
  {
   "cell_type": "code",
   "execution_count": 3,
   "metadata": {},
   "outputs": [],
   "source": [
    "def start_ment():\n",
    "      pic0 = \"pic0.PNG\"\n",
    "      ndarray = img.imread(pic0) \n",
    "      plt.imshow(ndarray) \n",
    "      plt.axis('off')\n",
    "      plt.show()\n",
    "      plt.pause(1)\n",
    "      plt.close()\n",
    "      input(\"인물 퀴즈를 시작하시겠습니까?\")\n",
    "      print(\"=\"*40)"
   ]
  },
  {
   "cell_type": "code",
   "execution_count": 4,
   "metadata": {
    "id": "tuwvLmnssBl2"
   },
   "outputs": [],
   "source": [
    "def load_pic():\n",
    "  pic1 = \"pic1.PNG\"\n",
    "  pic2 = \"pic2.PNG\"\n",
    "  pic3 = \"pic3.PNG\"\n",
    "  pic4 = \"pic4.PNG\"\n",
    "  pic5 = \"pic5.PNG\"\n",
    "  pic = [pic1, pic2, pic3, pic4, pic5]\n",
    "  return pic"
   ]
  },
  {
   "cell_type": "code",
   "execution_count": 5,
   "metadata": {
    "id": "q24XslqWNk04"
   },
   "outputs": [],
   "source": [
    "def ai_people(pic):\n",
    "  # ans = [\"George Boole\", \"Alan Mathison Turing\", \"Geoffrey Everest Hinton\", \"이두희\", \"이재화\"]\n",
    "  ans2 = [\"조지 불\",\"앨런 튜링\",\"제프리 힌턴\", \"교장선생님\", \"그져 빛\"]\n",
    "  for j, i in enumerate(pic):\n",
    "    ndarray = img.imread(i) \n",
    "    plt.imshow(ndarray) \n",
    "    plt.axis('off')\n",
    "    plt.show()\n",
    "    plt.pause(1)\n",
    "    plt.close()\n",
    "    user_ans = input(\"정답은? :\")\n",
    "    while True:\n",
    "      if (user_ans == ans2[j]) : #or (user_ans == ans2[j]):\n",
    "        break\n",
    "      else:\n",
    "        user_ans = input(\"틀렸습니다! 다시 정답은? :\")\n",
    "\n"
   ]
  },
  {
   "cell_type": "code",
   "execution_count": 6,
   "metadata": {},
   "outputs": [],
   "source": [
    "def final_ment():\n",
    "      print(\"=\"*40)\n",
    "      pic6 = \"pic6.PNG\"\n",
    "      ndarray = img.imread(pic6) \n",
    "      plt.imshow(ndarray) \n",
    "      plt.axis('off')\n",
    "      plt.show()\n",
    "      plt.pause(1)\n",
    "      plt.close()\n",
    "      print(\"끝!\")"
   ]
  },
  {
   "cell_type": "code",
   "execution_count": 7,
   "metadata": {
    "id": "oI2bfbjgvcoq"
   },
   "outputs": [],
   "source": [
    "def main():\n",
    "    start_ment()\n",
    "    pic = load_pic()\n",
    "    ai_people(pic)\n",
    "    final_ment()"
   ]
  },
  {
   "cell_type": "code",
   "execution_count": null,
   "metadata": {},
   "outputs": [],
   "source": [
    "main()"
   ]
  }
 ],
 "metadata": {
  "colab": {
   "name": "data_preprocessing.ipynb",
   "provenance": []
  },
  "kernelspec": {
   "display_name": "Python 3",
   "language": "python",
   "name": "python3"
  },
  "language_info": {
   "codemirror_mode": {
    "name": "ipython",
    "version": 3
   },
   "file_extension": ".py",
   "mimetype": "text/x-python",
   "name": "python",
   "nbconvert_exporter": "python",
   "pygments_lexer": "ipython3",
   "version": "3.8.8"
  }
 },
 "nbformat": 4,
 "nbformat_minor": 4
}

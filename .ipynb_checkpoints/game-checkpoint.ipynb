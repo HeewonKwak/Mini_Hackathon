{
 "cells": [
  {
   "cell_type": "code",
   "execution_count": 7,
   "id": "ed9d7565",
   "metadata": {},
   "outputs": [],
   "source": [
    "import csv\n",
    "import pandas as pd\n",
    "import time\n",
    "import random\n",
    "\n",
    "class FourLettersGame:\n",
    "    \n",
    "    #생성자 함수\n",
    "    def __init__(self):\n",
    "        self.team1 = []\n",
    "        self.team2 = []\n",
    "        self.count1 = 0\n",
    "        self.count2 = 0\n",
    "        \n",
    "        \n",
    "    # 결과 출력함수\n",
    "    def result(self):\n",
    "        if self.count1 > self.count2:\n",
    "            print(\"=\"*100)\n",
    "            print(\"     ⁽⁽◝( ˙ ꒳ ˙ )◜⁾⁾\")\n",
    "            print(\"        1팀 승리!\")\n",
    "            print(\"=\"*100)\n",
    "            print(\" 1팀의 점수는 {0}점 입니다.\".format(self.count1))\n",
    "            print(\"=\"*100)\n",
    "            print(\" 2팀은 고작 {0}점 이네요ㅋ\".format(self.count2))\n",
    "            print(\"          (•̀ᴗ•́)و ̑̑\")\n",
    "        elif self.count1 < self.count2:\n",
    "            print(\"=\"*100)\n",
    "            print(\"     ⁽⁽◝( ˙ ꒳ ˙ )◜⁾⁾\")\n",
    "            print(\"        2팀 승리!\")\n",
    "            print(\"=\"*100)\n",
    "            print(\" 2팀의 점수는 {0}점 입니다.\".format(self.count2))\n",
    "            print(\"=\"*100)\n",
    "            print(\" 1팀은 고작 {0}점 이네요ㅋ\".format(self.count1))\n",
    "            print(\"          (•̀ᴗ•́)و ̑̑\")\n",
    "        else:\n",
    "            print(\"=\"*100)\n",
    "            print(\"점수가 같아요! 두 팀은 운명♥\")\n",
    "        \n",
    "        print(\"=\"*100)\n",
    "    \n",
    "    # 메인 게임\n",
    "    def main_game_start(self,data):\n",
    "        \n",
    "        full = data['4word']\n",
    "        problem = data['f2word']\n",
    "        answer = data['b2word']\n",
    "        \n",
    "        start = time.time()\n",
    "        PERIOD_OF_TIME = 30 # 5min\n",
    "        \n",
    "        idx = []\n",
    "        \n",
    "        index = random.randint(0, (len(data)-1))\n",
    "        \n",
    "        while True:\n",
    "            \n",
    "            while index in idx:\n",
    "                index = random.randint(0, (len(data)-1))\n",
    "            idx.append(index)\n",
    "            \n",
    "            now_problem = problem[index]\n",
    "            now_answer = data[data['f2word'] == now_problem]['b2word'].tolist()\n",
    "            \n",
    "            \n",
    "            print(\"남은 시간 :\",round((start+PERIOD_OF_TIME)-time.time()),'초')\n",
    "            \n",
    "            user_answer = input(\"▶\"+now_problem)\n",
    "            \n",
    "            if time.time() >= start + PERIOD_OF_TIME : \n",
    "                print(\"Time Over\")\n",
    "                break\n",
    "            \n",
    "            if user_answer in now_answer:\n",
    "                self.count1 += 1\n",
    "            else:\n",
    "                print(\"땡!\")\n",
    "                \n",
    "            \n",
    "        print(\"-\"*100)\n",
    "        team2_start= input(\"지금 시작하시겠으면 '시작'또는 'GO'를 입력해주세요.\")\n",
    "        \n",
    "        while True:\n",
    "            \n",
    "            if team2_start == '시작' or team2_start == 'GO':\n",
    "                break\n",
    "            else :\n",
    "                team2_start= input(\"조금더 시간이 필요하신가요? 시작하시려면 '시작'또는 'GO'를 입력해주세요.\")\n",
    "        \n",
    "        start = time.time()\n",
    "        PERIOD_OF_TIME = 30 # 30초\n",
    "        \n",
    "        index = random.randint(0, (len(data)-1))\n",
    "        \n",
    "        while True:\n",
    "            \n",
    "            while index in idx:\n",
    "                index = random.randint(0, (len(data)-1))\n",
    "            idx.append(index)\n",
    "            \n",
    "            now_problem = problem[index]\n",
    "            now_answer = data[data['f2word'] == now_problem]['b2word'].tolist()\n",
    "            \n",
    "            print(\"남은 시간 :\",round((start+PERIOD_OF_TIME)-time.time()),\"초\")\n",
    "            \n",
    "            user_answer = input(\"▶\"+now_problem)\n",
    "            \n",
    "            if time.time() >= start + PERIOD_OF_TIME : \n",
    "                print(\"Time Over\")\n",
    "                break\n",
    "            \n",
    "            if user_answer in now_answer:\n",
    "                self.count2 += 1\n",
    "            else:\n",
    "                print(\"땡!\")\n",
    "            \n",
    "\n",
    "    # 멤버 랜덤 뽑기\n",
    "    def member(self):\n",
    "        people = ['김진우','서민종','김도현','이건희','김정훈',\n",
    "              '안성경','김태희','정의형','강민지','김준형',\n",
    "              '최도영','류재원','김태형','노건우','곽수연',\n",
    "              '윤솔아','전다운','이승진','박현영','김승문',\n",
    "              '조혜빈','오동혁','유수정','곽희원','이주용',\n",
    "              '김연상','황선진','박우성']\n",
    "        \n",
    "        random.shuffle(people)\n",
    "        choosed_people = random.sample(people, 4)\n",
    "        self.team1= choosed_people[0:2]\n",
    "        self.team2= choosed_people[2:4]\n",
    "    \n",
    "    # 도움말 함수\n",
    "    def rule(self):\n",
    "        print(\"=\"*100)\n",
    "        print(\"제시되는 두글자에 이어지는 두글자를 입력해주세요!\")\n",
    "        print(\"=\"*100)\n",
    "    \n",
    "    # 게임 시작\n",
    "    def game_start(self):\n",
    "        \n",
    "        df = pd.read_csv ('df.csv',encoding= 'cp949')\n",
    "        \n",
    "        print(\"☆★ 친해지길 바래~ 네글자 말하기! ☆★\")\n",
    "        print(\"-\"*100)\n",
    "        \n",
    "        while(True):\n",
    "            \n",
    "            option = int(input(\"1.시작하기 2.도움말 3.종료하기 :\"))\n",
    "\n",
    "            if option == 1:\n",
    "\n",
    "                while(True):\n",
    "                    print(\"-\"*100)\n",
    "                    print(\"*팀원은 랜덤으로 지정됩니다.\")\n",
    "\n",
    "                    self.member()\n",
    "\n",
    "                    print(\"team1 :\",self.team1)\n",
    "                    print(\"team2 :\",self.team2)\n",
    "\n",
    "                    print(\"-\"*100)\n",
    "                    \n",
    "                    global option2\n",
    "                    option2 = int(input(\"1. 게임 시작하기 2. 팀 다시 뽑기 3. 종료하기\"))\n",
    "\n",
    "                    if option2 == 1:\n",
    "                        print(\"Game Start!\")\n",
    "                        break\n",
    "                    if option2 == 3:\n",
    "                        print(\"Game Over\")\n",
    "                        break\n",
    "\n",
    "                if option2 == 1:\n",
    "                    self.main_game_start(df)\n",
    "                    self.result()\n",
    "            elif option == 3:\n",
    "                print(\"Game Over\")\n",
    "                break\n",
    "            else:\n",
    "                self.rule()\n"
   ]
  },
  {
   "cell_type": "code",
   "execution_count": 8,
   "id": "c3e123fd",
   "metadata": {},
   "outputs": [],
   "source": [
    "x = FourLettersGame()"
   ]
  },
  {
   "cell_type": "code",
   "execution_count": 9,
   "id": "e2514ce7",
   "metadata": {},
   "outputs": [
    {
     "name": "stdout",
     "output_type": "stream",
     "text": [
      "☆★ 친해지길 바래~ 네글자 말하기! ☆★\n",
      "----------------------------------------------------------------------------------------------------\n"
     ]
    },
    {
     "name": "stdin",
     "output_type": "stream",
     "text": [
      "1.시작하기 2.도움말 3.종료하기 : 1\n"
     ]
    },
    {
     "name": "stdout",
     "output_type": "stream",
     "text": [
      "----------------------------------------------------------------------------------------------------\n",
      "*팀원은 랜덤으로 지정됩니다.\n",
      "team1 : ['서민종', '유수정']\n",
      "team2 : ['강민지', '안성경']\n",
      "----------------------------------------------------------------------------------------------------\n"
     ]
    },
    {
     "name": "stdin",
     "output_type": "stream",
     "text": [
      "1. 게임 시작하기 2. 팀 다시 뽑기 3. 종료하기 1\n"
     ]
    },
    {
     "name": "stdout",
     "output_type": "stream",
     "text": [
      "Game Start!\n",
      "남은 시간 : 30 초\n"
     ]
    },
    {
     "name": "stdin",
     "output_type": "stream",
     "text": [
      "▶당근 마켓\n"
     ]
    },
    {
     "name": "stdout",
     "output_type": "stream",
     "text": [
      "남은 시간 : 26 초\n"
     ]
    },
    {
     "name": "stdin",
     "output_type": "stream",
     "text": [
      "▶초등 학교\n"
     ]
    },
    {
     "name": "stdout",
     "output_type": "stream",
     "text": [
      "남은 시간 : 24 초\n"
     ]
    },
    {
     "name": "stdin",
     "output_type": "stream",
     "text": [
      "▶생활 수칙\n"
     ]
    },
    {
     "name": "stdout",
     "output_type": "stream",
     "text": [
      "땡!\n",
      "남은 시간 : 22 초\n"
     ]
    },
    {
     "name": "stdin",
     "output_type": "stream",
     "text": [
      "▶예방 교육\n"
     ]
    },
    {
     "name": "stdout",
     "output_type": "stream",
     "text": [
      "땡!\n",
      "남은 시간 : 20 초\n"
     ]
    },
    {
     "name": "stdin",
     "output_type": "stream",
     "text": [
      "▶신문 읽기\n"
     ]
    },
    {
     "name": "stdout",
     "output_type": "stream",
     "text": [
      "땡!\n",
      "남은 시간 : 14 초\n"
     ]
    },
    {
     "name": "stdin",
     "output_type": "stream",
     "text": [
      "▶다이 어트\n"
     ]
    },
    {
     "name": "stdout",
     "output_type": "stream",
     "text": [
      "남은 시간 : 12 초\n"
     ]
    },
    {
     "name": "stdin",
     "output_type": "stream",
     "text": [
      "▶세숫 비누\n"
     ]
    },
    {
     "name": "stdout",
     "output_type": "stream",
     "text": [
      "남은 시간 : 9 초\n"
     ]
    },
    {
     "name": "stdin",
     "output_type": "stream",
     "text": [
      "▶게르 마늄\n"
     ]
    },
    {
     "name": "stdout",
     "output_type": "stream",
     "text": [
      "남은 시간 : 7 초\n"
     ]
    },
    {
     "name": "stdin",
     "output_type": "stream",
     "text": [
      "▶사자 우리\n"
     ]
    },
    {
     "name": "stdout",
     "output_type": "stream",
     "text": [
      "Time Over\n",
      "----------------------------------------------------------------------------------------------------\n"
     ]
    },
    {
     "name": "stdin",
     "output_type": "stream",
     "text": [
      "지금 시작하시겠으면 '시작'또는 'GO'를 입력해주세요. 시작\n"
     ]
    },
    {
     "name": "stdout",
     "output_type": "stream",
     "text": [
      "남은 시간 : 30 초\n"
     ]
    },
    {
     "name": "stdin",
     "output_type": "stream",
     "text": [
      "▶파인 애플\n"
     ]
    },
    {
     "name": "stdout",
     "output_type": "stream",
     "text": [
      "남은 시간 : 28 초\n"
     ]
    },
    {
     "name": "stdin",
     "output_type": "stream",
     "text": [
      "▶넷플 릭스\n"
     ]
    },
    {
     "name": "stdout",
     "output_type": "stream",
     "text": [
      "남은 시간 : 27 초\n"
     ]
    },
    {
     "name": "stdin",
     "output_type": "stream",
     "text": [
      "▶가상 현실\n"
     ]
    },
    {
     "name": "stdout",
     "output_type": "stream",
     "text": [
      "남은 시간 : 25 초\n"
     ]
    },
    {
     "name": "stdin",
     "output_type": "stream",
     "text": [
      "▶프리 미엄\n"
     ]
    },
    {
     "name": "stdout",
     "output_type": "stream",
     "text": [
      "남은 시간 : 23 초\n"
     ]
    },
    {
     "name": "stdin",
     "output_type": "stream",
     "text": [
      "▶동그 라미\n"
     ]
    },
    {
     "name": "stdout",
     "output_type": "stream",
     "text": [
      "남은 시간 : 22 초\n"
     ]
    },
    {
     "name": "stdin",
     "output_type": "stream",
     "text": [
      "▶머신 러닝\n"
     ]
    },
    {
     "name": "stdout",
     "output_type": "stream",
     "text": [
      "남은 시간 : 20 초\n"
     ]
    },
    {
     "name": "stdin",
     "output_type": "stream",
     "text": [
      "▶알람 시계\n"
     ]
    },
    {
     "name": "stdout",
     "output_type": "stream",
     "text": [
      "남은 시간 : 18 초\n"
     ]
    },
    {
     "name": "stdin",
     "output_type": "stream",
     "text": [
      "▶바이 올린\n"
     ]
    },
    {
     "name": "stdout",
     "output_type": "stream",
     "text": [
      "남은 시간 : 4 초\n"
     ]
    },
    {
     "name": "stdin",
     "output_type": "stream",
     "text": [
      "▶에버 랜드\n"
     ]
    },
    {
     "name": "stdout",
     "output_type": "stream",
     "text": [
      "남은 시간 : 3 초\n"
     ]
    },
    {
     "name": "stdin",
     "output_type": "stream",
     "text": [
      "▶국가 대표\n"
     ]
    },
    {
     "name": "stdout",
     "output_type": "stream",
     "text": [
      "남은 시간 : 1 초\n"
     ]
    },
    {
     "name": "stdin",
     "output_type": "stream",
     "text": [
      "▶칠순 잔치\n"
     ]
    },
    {
     "name": "stdout",
     "output_type": "stream",
     "text": [
      "Time Over\n",
      "====================================================================================================\n",
      "     ⁽⁽◝( ˙ ꒳ ˙ )◜⁾⁾\n",
      "        2팀 승리!\n",
      "====================================================================================================\n",
      " 2팀의 점수는 10점 입니다.\n",
      "====================================================================================================\n",
      " 1팀은 고작 5점 이네요ㅋ\n",
      "          (•̀ᴗ•́)و ̑̑\n",
      "====================================================================================================\n"
     ]
    },
    {
     "name": "stdin",
     "output_type": "stream",
     "text": [
      "1.시작하기 2.도움말 3.종료하기 : 2\n"
     ]
    },
    {
     "name": "stdout",
     "output_type": "stream",
     "text": [
      "====================================================================================================\n",
      "제시되는 두글자에 이어지는 두글자를 입력해주세요!\n",
      "====================================================================================================\n"
     ]
    },
    {
     "name": "stdin",
     "output_type": "stream",
     "text": [
      "1.시작하기 2.도움말 3.종료하기 : 3\n"
     ]
    },
    {
     "name": "stdout",
     "output_type": "stream",
     "text": [
      "Game Over\n"
     ]
    }
   ],
   "source": [
    "x.game_start()"
   ]
  },
  {
   "cell_type": "code",
   "execution_count": null,
   "id": "24c4d4c0-c150-4d6f-b3d4-770343f824a9",
   "metadata": {},
   "outputs": [],
   "source": [
    "\n",
    "\n"
   ]
  }
 ],
 "metadata": {
  "kernelspec": {
   "display_name": "Python 3",
   "language": "python",
   "name": "python3"
  },
  "language_info": {
   "codemirror_mode": {
    "name": "ipython",
    "version": 3
   },
   "file_extension": ".py",
   "mimetype": "text/x-python",
   "name": "python",
   "nbconvert_exporter": "python",
   "pygments_lexer": "ipython3",
   "version": "3.8.8"
  }
 },
 "nbformat": 4,
 "nbformat_minor": 5
}
